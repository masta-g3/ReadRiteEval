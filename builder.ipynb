{
 "cells": [
  {
   "cell_type": "markdown",
   "source": [
    "# CorLingua Eval Dataset Builder"
   ],
   "metadata": {
    "collapsed": false
   },
   "id": "4e9ef64de2e3d8f"
  },
  {
   "cell_type": "code",
   "outputs": [],
   "source": [
    "from pydantic import BaseModel, Field, conlist\n",
    "from typing import Optional, Tuple\n",
    "from tqdm.notebook import tqdm\n",
    "from dotenv import load_dotenv\n",
    "import pandas as pd\n",
    "import emoji\n",
    "import random\n",
    "import json\n",
    "\n",
    "load_dotenv()\n",
    "import instructor\n",
    "from openai import OpenAI\n",
    "\n",
    "client = instructor.patch(OpenAI())\n",
    "all_emojis = list(emoji.EMOJI_DATA.keys())"
   ],
   "metadata": {
    "collapsed": false,
    "ExecuteTime": {
     "end_time": "2024-01-14T18:58:51.247140Z",
     "start_time": "2024-01-14T18:58:50.851972Z"
    }
   },
   "id": "65033cd4e0017179",
   "execution_count": 1
  },
  {
   "cell_type": "markdown",
   "source": [
    "## Sequence Logic Puzzle"
   ],
   "metadata": {
    "collapsed": false
   },
   "id": "306c2c010ea2f930"
  },
  {
   "cell_type": "code",
   "outputs": [],
   "source": [
    "class PuzzleValidator(BaseModel):\n",
    "    analysis: str = Field(description=\"Detailed analysis of the proposed answer.\") \n",
    "    valid: bool = Field(description=\"Whether the proposed answer is valid given the rules.\")\n",
    "\n",
    "\n",
    "class Puzzle(BaseModel):\n",
    "    rules: str = Field(description=\"Rules to build a sequence. Must include emojis encoded as UTF-8.\")\n",
    "    answer: str = Field(description=\"Proposed answer to the puzzle (must be unique).\")\n",
    "    validation: Optional[PuzzleValidator] = None\n",
    "        \n",
    "    def validation_prompt(self):\n",
    "        return f\"\"\" Below you will be presented with rules to build a sequence and a proposed answer. Your task is to determine if the answer is valid given the rules. First analyze carefully the sequence and if it complies with the rules, then determine its valid status. You must also make sure that the proposed answer is the only possible answer. If there are other possible answers, the proposed answer is invalid.\n",
    "        RULES: {self.rules}\n",
    "        PROPOSED ANSWER: {self.answer}\"\"\"\n",
    "    "
   ],
   "metadata": {
    "collapsed": false,
    "ExecuteTime": {
     "end_time": "2024-01-14T18:58:51.291345Z",
     "start_time": "2024-01-14T18:58:51.248975Z"
    }
   },
   "id": "1ab0cd2ec62f8d19",
   "execution_count": 2
  },
  {
   "cell_type": "markdown",
   "source": [
    "### Generate Puzzles"
   ],
   "metadata": {
    "collapsed": false
   },
   "id": "11889ee230eec783"
  },
  {
   "cell_type": "code",
   "outputs": [],
   "source": [
    "def get_puzzle_prompt():\n",
    "    random_emoji = random.choice(all_emojis)\n",
    "    puzzle_prompt = f\"\"\"Provide another puzzle like the one presented below, along with its answer. Be very careful and make sure that the answer is unique. Change the set of emojis, the sequence length and the specific rules. Use emojis centered around the theme {random_emoji}.\n",
    "    \n",
    "    SAMPLE PUZZLE\n",
    "    ===============\n",
    "    RULES:\n",
    "    In this puzzle, use the symbols 🪐 (Planet), 🌌 (Galaxy), 🌠 (Shooting Star), 🛰️ (Satellite), 🌑 (New Moon), and ☀️ (Sun).\n",
    "    1. 🪐 cannot be directly before or after 🛰️.\n",
    "    2. 🌌 must always precede 🌠 but follow 🌑.\n",
    "    3. 🛰️ must be immediately after 🌠.\n",
    "    4. The sequence must start with 🌑.\n",
    "    5. ☀️ cannot be adjacent to either 🌑 or 🌌.\n",
    "    6. The sequence contains exactly one of each symbol.\n",
    "    7. 🪐 must be the last in the sequence.\n",
    "    \n",
    "    ANSWER: 🌑, 🌌, 🌠, 🛰️, ☀️, 🪐\n",
    "    \n",
    "    YOUR PUZZLE\n",
    "    ===============\"\"\"\n",
    "    return puzzle_prompt"
   ],
   "metadata": {
    "collapsed": false,
    "ExecuteTime": {
     "end_time": "2024-01-14T01:31:27.256311Z",
     "start_time": "2024-01-14T01:31:27.215485Z"
    }
   },
   "id": "9226e7f4c3145574",
   "execution_count": 49
  },
  {
   "cell_type": "code",
   "outputs": [
    {
     "data": {
      "text/plain": "  0%|          | 0/1 [00:00<?, ?it/s]",
      "application/vnd.jupyter.widget-view+json": {
       "version_major": 2,
       "version_minor": 0,
       "model_id": "410491ba17f947c8ad1663abd539f276"
      }
     },
     "metadata": {},
     "output_type": "display_data"
    },
    {
     "name": "stdout",
     "output_type": "stream",
     "text": [
      "rules='In this puzzle, use the symbols 🤜🏽 (Fist), 🤛🏽 (Opposite Fist), 🤝 (Handshake), ✊🏽 (Raised Fist), 👊🏽 (Oncoming Fist), and 🙌🏽 (Raising Hands).\\n1. 🤜🏽 cannot be directly before or after 🤛🏽.\\n2. 🤝 must always precede ✊🏽 but follow 🤜🏽.\\n3. 🤛🏽 must be immediately after ✊🏽.\\n4. The sequence must start with 🤜🏽.\\n5. 🙌🏽 cannot be adjacent to either 🤜🏽 or 🤝.\\n6. The sequence contains exactly one of each symbol.\\n7. 👊🏽 must be the last in the sequence.' answer='🤜🏽, 🤝, ✊🏽, 🤛🏽, 🙌🏽, 👊🏽' validation=None\n"
     ]
    }
   ],
   "source": [
    "puzzles = []\n",
    "for i in tqdm(range(100)):\n",
    "    puzzle = client.chat.completions.create(\n",
    "        model=\"gpt-4\",\n",
    "        response_model=Puzzle,\n",
    "        temperature=0.2,\n",
    "        messages=[{\"role\": \"user\", \"content\": get_puzzle_prompt()}]\n",
    "    )\n",
    "    puzzles.append(puzzle)\n",
    "    \n",
    "print(puzzles[0])"
   ],
   "metadata": {
    "collapsed": false,
    "ExecuteTime": {
     "end_time": "2024-01-14T01:31:46.629738Z",
     "start_time": "2024-01-14T01:31:34.435183Z"
    }
   },
   "id": "e4967dcedb15eaa5",
   "execution_count": 50
  },
  {
   "cell_type": "markdown",
   "source": [
    "### Validate Puzzles"
   ],
   "metadata": {
    "collapsed": false
   },
   "id": "967b72041857605c"
  },
  {
   "cell_type": "code",
   "outputs": [
    {
     "data": {
      "text/plain": "  0%|          | 0/10 [00:00<?, ?it/s]",
      "application/vnd.jupyter.widget-view+json": {
       "version_major": 2,
       "version_minor": 0,
       "model_id": "6c6e15532a094a5e8ee4aa6bb55df698"
      }
     },
     "metadata": {},
     "output_type": "display_data"
    }
   ],
   "source": [
    "for puzzle in tqdm(puzzles):\n",
    "    puzzle_validator = client.chat.completions.create(\n",
    "        model=\"gpt-4\",\n",
    "        response_model=PuzzleValidator,\n",
    "        messages=[{\"role\": \"user\", \"content\": puzzle.validation_prompt()}]\n",
    "    )\n",
    "    puzzle.validation = puzzle_validator"
   ],
   "metadata": {
    "collapsed": false
   },
   "id": "734b93f0183cca9a",
   "execution_count": 31
  },
  {
   "cell_type": "markdown",
   "source": [
    "### Save"
   ],
   "metadata": {
    "collapsed": false
   },
   "id": "82106646a4257afc"
  },
  {
   "cell_type": "code",
   "outputs": [
    {
     "name": "stdout",
     "output_type": "stream",
     "text": [
      "In this puzzle, use the symbols 🐉 (Dragon), 🗡️ (Sword), 🛡️ (Shield), and 🔮 (Crystal).\n",
      "1. 🐉 cannot be adjacent to 🗡️.\n",
      "2. 🛡️ must always precede 🔮.\n",
      "3. The sequence must start with 🗡️.\n",
      "4. 🐉 cannot be the last in the sequence.\n",
      "5. The sequence contains exactly one of each symbol.\n",
      "🗡️, 🔮, 🛡️, 🐉\n"
     ]
    }
   ],
   "source": [
    "## Remove invalid puzzles.\n",
    "puzzles = [puzzle for puzzle in puzzles if puzzle.validation.valid]\n",
    "\n",
    "## Store as JSON.\n",
    "with open(\"sequence_logic.json\", \"w\") as f:\n",
    "    json.dump([puzzle.model_dump() for puzzle in puzzles], f)\n",
    "    \n",
    "## As CSV.\n",
    "df = pd.DataFrame([puzzle.model_dump() for puzzle in puzzles])\n",
    "df.to_csv(\"sequence_logic.csv\", index=False)"
   ],
   "metadata": {
    "collapsed": false
   },
   "id": "299e147df64b01cc",
   "execution_count": 34
  },
  {
   "cell_type": "markdown",
   "source": [
    "## Contextual Dissonance Test"
   ],
   "metadata": {
    "collapsed": false
   },
   "id": "a3ed7793730eb3c8"
  },
  {
   "cell_type": "code",
   "outputs": [],
   "source": [
    "class PassageTopicList(BaseModel):\n",
    "    topics: conlist(str, min_length=30, max_length=70) = Field(description=\"List of 50 topics.\")\n",
    "\n",
    "\n",
    "class ContextualPassage(BaseModel):\n",
    "    topic: str = Field(description=\"Topic of the passage.\")\n",
    "    irrelevant_topic: str = Field(description=\"Topic that is irrelevant to the passage, but seems superficially related (i.e.: close in embedding space).\")\n",
    "    passage: str = Field(description=\"Passage that is relevant to the topic.\")\n",
    "    irrelevant_sentence: str = Field(description=\"Sentence that is irrelevant to the topic.\")    "
   ],
   "metadata": {
    "collapsed": false,
    "ExecuteTime": {
     "end_time": "2024-01-14T01:38:44.458658Z",
     "start_time": "2024-01-14T01:38:44.416489Z"
    }
   },
   "id": "8eba8dca9139480d",
   "execution_count": 57
  },
  {
   "cell_type": "markdown",
   "source": [
    "### Create Passage Topics"
   ],
   "metadata": {
    "collapsed": false
   },
   "id": "427b0c9f18f0364e"
  },
  {
   "cell_type": "code",
   "outputs": [],
   "source": [
    "passage_topics = client.chat.completions.create(\n",
    "    model=\"gpt-4-1106-preview\",\n",
    "    response_model=PassageTopicList,\n",
    "    temperature=0.2,\n",
    "    messages=[{\"role\": \"user\", \"content\": \"Provide me with 50 topic names for essays, such as 'The Progress in Space Telescopes and Astronomical Observation', 'The Impact of the Internet on Society', 'Advances in Electric Vehicle Battery Technology', and so on. Do not use these topics, but name your topics in a similar fashion. Make all your topics simple and engaging.\"}]\n",
    ")"
   ],
   "metadata": {
    "collapsed": false,
    "ExecuteTime": {
     "end_time": "2024-01-14T01:38:57.679954Z",
     "start_time": "2024-01-14T01:38:45.443135Z"
    }
   },
   "id": "8a678471d727a77d",
   "execution_count": 58
  },
  {
   "cell_type": "markdown",
   "source": [
    "### Create Passages"
   ],
   "metadata": {
    "collapsed": false
   },
   "id": "d0c2fafd8ec94355"
  },
  {
   "cell_type": "code",
   "outputs": [],
   "source": [
    "def get_passage_prompt(topic):\n",
    "    passage_prompt = f\"\"\"Your task is to write a 5 paragraph passage on the topic **\"{topic}\"**. On this passage you must inject an irrelevant sentence, one that is seemingly related but actually irrelevant to the main topic. Be sure to inject this sentence in a very subtle way, so that it is not obvious that it is irrelevant. Don't make too obvious with comments like \"alongside\", \"in parallel\", \"meanwhile\", etc. You can take inspiration on the example below, but do not make your response too similar. Make sure that the unrelated sentence is unambiguously irrelevant to the topic.\n",
    "    \n",
    "    EXAMPLE PASSAGE\n",
    "    ================\n",
    "    ### Topic\n",
    "    The Progress in Space Telescopes and Astronomical Observation\n",
    "    \n",
    "    ### Irrelevant Topic\n",
    "    Advances in Electric Vehicle Battery Technology\n",
    "    \n",
    "    ### Passage\n",
    "    The field of astronomical observation has been revolutionized by the advent of space telescopes. Unlike ground-based telescopes, space telescopes can observe the universe without the distortion caused by Earth's atmosphere. This has allowed for clearer and more detailed observations of distant celestial bodies and phenomena. The Hubble Space Telescope, launched in 1990, has been one of the most successful, providing invaluable data and spectacular images of distant galaxies, nebulas, and stars.\n",
    "    \n",
    "    Subsequent space telescopes, like the James Webb Space Telescope, aim to build upon Hubble's legacy, using even more advanced technology to peer further into the universe. These telescopes are designed to observe in different wavelengths, from visible light to infrared, enabling astronomers to uncover secrets of the universe that were previously hidden. While these astronomical advancements continue, there has also been notable progress in electric vehicle battery technology, enhancing the efficiency and range of electric cars.\n",
    "    \n",
    "    These advancements in space observation are not just expanding our knowledge of the universe; they're also crucial in searching for extraterrestrial life and understanding the origins of the cosmos. The data gathered by these telescopes contribute to our understanding of fundamental physics, like the nature of dark matter and the expansion of the universe.\n",
    "    \n",
    "    Space telescopes represent a significant investment in scientific inquiry and discovery. Their continued development and the insights they provide are essential for advancing our understanding of the universe and our place within it.\n",
    "    \n",
    "    ### Irrelevant Sentence\n",
    "    While these astronomical advancements continue, there has also been notable progress in electric vehicle battery technology, enhancing the efficiency and range of electric cars.\n",
    "    \"\"\"\n",
    "    return passage_prompt"
   ],
   "metadata": {
    "collapsed": false,
    "ExecuteTime": {
     "end_time": "2024-01-14T01:42:00.779675Z",
     "start_time": "2024-01-14T01:42:00.774169Z"
    }
   },
   "id": "8fda47ab6e1642c5",
   "execution_count": 65
  },
  {
   "cell_type": "code",
   "outputs": [
    {
     "data": {
      "text/plain": "  0%|          | 0/1 [00:00<?, ?it/s]",
      "application/vnd.jupyter.widget-view+json": {
       "version_major": 2,
       "version_minor": 0,
       "model_id": "0f0f970bd04c4e37bcf73073845cce29"
      }
     },
     "metadata": {},
     "output_type": "display_data"
    },
    {
     "name": "stdout",
     "output_type": "stream",
     "text": [
      "The growth of virtual reality (VR) has been one of the most exciting developments in technology over the past decade. Initially conceived as a novel form of entertainment, VR has rapidly evolved into a multifaceted platform with applications spanning various industries. From immersive video games that transport players to other worlds to virtual training simulations for surgeons, the potential of VR seems boundless. Its ability to simulate realistic environments has made it an invaluable tool in education, where students can explore historical sites or conduct complex scientific experiments in a safe, controlled virtual space.\n",
      "\n",
      "As VR technology continues to advance, its impact is being felt in more unexpected areas. Real estate agents, for example, are using VR to offer virtual tours of properties, allowing potential buyers to explore homes without physical travel. This not only saves time but also broadens the market reach for sellers. In the field of mental health, VR is being used for exposure therapy, helping patients confront and overcome their fears in a manageable way. The immersive nature of VR can create scenarios that feel incredibly real, providing a powerful medium for therapy and rehabilitation. Interestingly, the rise of VR has coincided with a significant increase in avocado consumption, which some attribute to a growing health-conscious population.\n",
      "\n",
      "The entertainment industry has been particularly transformed by VR, with filmmakers and artists exploring new ways to tell stories and create experiences that are more interactive and engaging. VR concerts and live events offer audiences the chance to experience performances as if they were there in person, regardless of their physical location. This has opened up new possibilities for artists to connect with fans and for fans to experience live events in an entirely new way.\n",
      "\n",
      "In the corporate world, VR is reshaping how companies conduct business. Virtual meetings and conferences are becoming more commonplace, offering a cost-effective alternative to travel while also reducing the carbon footprint associated with business trips. Training programs are also being revolutionized, as VR allows employees to practice skills and procedures in a realistic yet risk-free environment. This hands-on approach to learning can improve retention and performance in a variety of fields.\n",
      "\n",
      "Looking to the future, the potential applications of VR are only set to expand. As the technology becomes more accessible and affordable, it is likely to become a staple in many aspects of daily life. From enhancing social interactions to revolutionizing the way we work and learn, VR holds the promise of a more immersive and interactive future. It is a testament to human ingenuity and the endless pursuit of innovation that continues to push the boundaries of what is possible.\n",
      "===============\n",
      "Interestingly, the rise of VR has coincided with a significant increase in avocado consumption, which some attribute to a growing health-conscious population.\n"
     ]
    }
   ],
   "source": [
    "passages = []\n",
    "for passage_topic in tqdm(passage_topics.topics):\n",
    "    passage = client.chat.completions.create(\n",
    "        model=\"gpt-4-1106-preview\",\n",
    "        response_model=ContextualPassage,\n",
    "        temperature=0.2,\n",
    "        messages=[{\"role\": \"user\", \"content\": get_passage_prompt(passage_topic)}]\n",
    "    )\n",
    "    passages.append(passage)\n",
    "    \n",
    "print(passages[0].passage)\n",
    "print(\"===============\")\n",
    "print(passages[0].irrelevant_sentence)"
   ],
   "metadata": {
    "collapsed": false,
    "ExecuteTime": {
     "end_time": "2024-01-14T01:42:21.568284Z",
     "start_time": "2024-01-14T01:42:01.320154Z"
    }
   },
   "id": "71063f0cd5f3e687",
   "execution_count": 66
  },
  {
   "cell_type": "markdown",
   "source": [
    "### Save"
   ],
   "metadata": {
    "collapsed": false
   },
   "id": "6d03a7fb349acfcc"
  },
  {
   "cell_type": "code",
   "outputs": [],
   "source": [
    "## Store as JSON.\n",
    "with open(\"contextual_incongruity.json\", \"w\") as f:\n",
    "    json.dump([passage.model_dump() for passage in passages], f)\n",
    "    \n",
    "## As CSV.\n",
    "df = pd.DataFrame([passage.model_dump() for passage in passages])\n",
    "df.to_csv(\"contextual_incongruity.csv\", index=False)"
   ],
   "metadata": {
    "collapsed": false
   },
   "id": "3f93a062a20bb059"
  },
  {
   "cell_type": "markdown",
   "source": [
    "## Spatial Navigation & Reasoning"
   ],
   "metadata": {
    "collapsed": false
   },
   "id": "b157c256d3ec3f94"
  },
  {
   "cell_type": "code",
   "outputs": [],
   "source": [
    "class CityNameList(BaseModel):\n",
    "    city_names: conlist(str, min_length=80, max_length=150) = Field(description=\"List of 100 imaginary thematic city names.\")\n",
    "    \n",
    "\n",
    "class CityQnaValidator(BaseModel):\n",
    "    analysis: str = Field(description=\"Detailed analysis of the proposed answer.\") \n",
    "    valid: bool = Field(description=\"Whether the proposed answer is valid given the rules.\")\n",
    "    \n",
    "    \n",
    "class CityQnA(BaseModel):\n",
    "    question: str = Field(description=\"Question on how to navigate the city.\")\n",
    "    answer: str = Field(description=\"Answer to the question, following the specified syntax.\")\n",
    "    \n",
    "    def validation_prompt(self, city_layout):\n",
    "        return f\"\"\" Below you will be presented with a city layout ,a question about how to navigate it and an answer to that question. Your task is to determine if the answer is valid given the city layout.\n",
    "        \n",
    "CITY LAYOUT: {city_layout}\n",
    "QUESTION: {self.question}\n",
    "ANSWER: {self.answer}\n",
    "\"\"\"\n",
    "\n",
    "\n",
    "class City(BaseModel):\n",
    "    name: str = Field(description=\"Name of the city.\")\n",
    "    description: str = Field(description=\"Detailed description of the city layout.\")\n",
    "    qna: conlist(CityQnA, min_length=5, max_length=5) = Field(description=\"Questions and answers about the city layout.\")"
   ],
   "metadata": {
    "collapsed": false,
    "ExecuteTime": {
     "end_time": "2024-01-14T01:46:49.978863Z",
     "start_time": "2024-01-14T01:46:49.950545Z"
    }
   },
   "id": "1bfc55fc52d4255e",
   "execution_count": 68
  },
  {
   "cell_type": "markdown",
   "source": [
    "### Create City Names"
   ],
   "metadata": {
    "collapsed": false
   },
   "id": "a2d423c1c3aa779c"
  },
  {
   "cell_type": "code",
   "outputs": [],
   "source": [
    "city_names = client.chat.completions.create(\n",
    "    model=\"gpt-4-1106-preview\",\n",
    "    response_model=CityNameList,\n",
    "    temperature=0.2,\n",
    "    messages=[{\"role\": \"user\", \"content\": \"Provide me with 100 names of imaginary thematic cities, such as Gardenview, Beachside Bay, Metropolis Haven, and so on. Do not use these names, but name your cities in a similar fashion. Make all your city names simple and visual.\"}]\n",
    ")"
   ],
   "metadata": {
    "collapsed": false,
    "ExecuteTime": {
     "end_time": "2024-01-14T01:25:53.723032Z",
     "start_time": "2024-01-14T01:25:33.015044Z"
    }
   },
   "id": "de6d70e1698ea490",
   "execution_count": 40
  },
  {
   "cell_type": "code",
   "outputs": [
    {
     "data": {
      "text/plain": "CityNameList(city_names=['Arborville', 'Aurora Ridge', 'Azure Harbor', 'Blossomvale', 'Bouldercrest', 'Cascade Corner', 'Celestial City', 'Cherrybloom Town', 'Cinderpeak', 'Cliffhaven', 'Cloudtop Village', 'Cobalt Coast', 'Crimson Canyon', 'Crystal Springs', 'Dawnlight', 'Dewdrop Dell', 'Diamondshore', 'Dusktown', \"Eagle's Rest\", 'Emerald Estates', 'Falconridge', 'Ferngrove', 'Frostfield', 'Glacierpoint', 'Goldenleaf', 'Harvest Hollow', 'Havenwood', 'Hazelwood', 'Horizon Heights', 'Icicle Isle', 'Ironforge', 'Ivybridge', 'Jadestone', 'Lakeshore Landing', 'Lavender Ledge', 'Lighthouse Point', 'Lilypond', 'Lunar Lakes', 'Magnolia Meadows', 'Marblecliff', 'Meadowmere', 'Midnight Cove', 'Mistwood', 'Moonshadow', 'Mossrock', 'Nebula Nexus', 'Nectarine Nook', 'Oceanview Oasis', 'Opal Orchard', 'Orchid Isle', 'Palm Paradise', 'Pebblebrook', 'Pinecrest', 'Platinum Port', 'Polaris Point', 'Prairie Palace', 'Quartz Quarry', 'Radiant Reef', 'Raindrop Retreat', 'Ravenwood', 'Redwood Rise', 'Riverbend Retreat', 'Ruby Ridge', 'Saffron Sands', 'Sapphire Shores', 'Serenity Summit', 'Shimmering Shores', 'Silverstone', 'Skyline Sanctuary', 'Snowflake Summit', 'Solstice Springs', 'Starlight Station', 'Stonewillow', 'Stormwatch Spire', 'Sunbeam City', 'Sundown Shire', 'Sunflower Savannah', 'Sunrise Sanctuary', 'Sunset Valley', 'Tempest Town', 'Thornthicket', 'Thundercliff', 'Timberline Town', 'Topaz Terrace', 'Tranquil Tides', 'Treetop Terrace', 'Tropical Tide', 'Tulip Town', 'Twilight Terrace', 'Velvet Vale', 'Violet Valley', 'Whisperwind', 'Wildflower Woods', 'Willow Way', 'Windswept Wastes', 'Winterhaven', 'Wisteria Walk', 'Zenith City'])"
     },
     "execution_count": 41,
     "metadata": {},
     "output_type": "execute_result"
    }
   ],
   "source": [
    "city_names"
   ],
   "metadata": {
    "collapsed": false,
    "ExecuteTime": {
     "end_time": "2024-01-14T01:25:53.758594Z",
     "start_time": "2024-01-14T01:25:53.724059Z"
    }
   },
   "id": "54f8f7d477873b56",
   "execution_count": 41
  },
  {
   "cell_type": "markdown",
   "source": [
    "### Create City Layouts & Q&A"
   ],
   "metadata": {
    "collapsed": false
   },
   "id": "94d7e93e5ec713b2"
  },
  {
   "cell_type": "code",
   "outputs": [],
   "source": [
    "def get_city_prompt(city_name):\n",
    "    city_prompt = f\"\"\"Your task is to generate a city layout along with 5 questions and answers about it. The questions must be about how to navigate the city, and the answers must be in the form of a sequence of actions using the format: ACTION (detail). Actions include WALK (street or area), TURN (direction at a landmark), and REACH (destination). Separate each action with '->'. If a route is not possible, answer with 'NOT POSSIBLE'.\n",
    "\n",
    "EXAMPLE CITY\n",
    "================\n",
    "### City Name\n",
    "Gardenview\n",
    "\n",
    "### City Description\n",
    "Gardenview is a city designed with an emphasis on green spaces. The central landmark is the Green Circle, a large roundabout surrounded by lush gardens. Extending from Green Circle are four main boulevards: Floral Boulevard (north), Orchard Avenue (east), Meadow Street (south), and Grove Road (west), each leading to Green Belt Road that encircles the city. Notable locations include the Gardenview Library at the intersection of Orchard Avenue and Green Belt Road, and the Gardenview Hospital at the crossroads of Meadow Street and Green Belt Road. In the northeast corner of the city lies the Botanical Garden, accessible via Orchard Avenue. A small river, Stream Vista, flows from north to south, cutting across Floral Boulevard and Meadow Street, with a single bridge on Floral Boulevard. **Due to recent construction, the bridge on Floral Boulevard over Stream Vista is temporarily closed, making crossing the river at this point impossible.**\n",
    "\n",
    "### Q&A\n",
    "1. **Question:** Find the route from Green Circle to Gardenview Library.\n",
    "   - **Answer:** WALK Orchard Avenue -> REACH Gardenview Library.\n",
    "\n",
    "2. **Question:** Find the route from Botanical Garden to Gardenview Hospital.\n",
    "   - **Answer:** WALK Orchard Avenue -> TURN onto Green Belt Road -> TURN onto Meadow Street -> REACH Gardenview Hospital.\n",
    "\n",
    "3. **Question:** Find the route from Gardenview Hospital to Green Circle.\n",
    "   - **Answer:** WALK Meadow Street -> REACH Green Circle.\n",
    "\n",
    "4. **Question:** Find the route from Green Circle to the Botanical Garden, passing through the Gardenview Hospital.\n",
    "   - **Answer:** WALK Meadow Street -> TURN left at Green Belt Road -> WALK Green Belt Road -> REACH Gardenview Hospital -> WALK Green Belt Road -> TURN right onto Orchard Avenue -> WALK Orchard Avenue -> REACH Botanical Garden.\n",
    "\n",
    "5. **Question:** Find the route from Gardenview Library to the Stream Vista bridge on Floral Boulevard.\n",
    "   - **Answer:** NOT POSSIBLE.\n",
    "   \n",
    "YOUR CITY\n",
    "===============\n",
    "Now provide your own thematic city layout and questions/answers. Be sure to follow the format of the example above, but use a very different city layout and questions/answers. You can take inspiration from the example above, but do not make your response too similar. Always frame your questions in the same format (e.g.: Find the route from X to Y).\n",
    "\n",
    "### City Name\n",
    "{city_name}\n",
    "\"\"\" \n",
    "    return city_prompt"
   ],
   "metadata": {
    "collapsed": false,
    "ExecuteTime": {
     "end_time": "2024-01-14T02:54:59.041524Z",
     "start_time": "2024-01-14T02:54:59.034363Z"
    }
   },
   "id": "4557bb4c3a33fc6c",
   "execution_count": 71
  },
  {
   "cell_type": "code",
   "outputs": [
    {
     "data": {
      "text/plain": "  0%|          | 0/1 [00:00<?, ?it/s]",
      "application/vnd.jupyter.widget-view+json": {
       "version_major": 2,
       "version_minor": 0,
       "model_id": "b1b110da2b244ad1886fdf470cc66112"
      }
     },
     "metadata": {},
     "output_type": "display_data"
    },
    {
     "name": "stdout",
     "output_type": "stream",
     "text": [
      "Cloudtop Village is a quaint mountain town known for its elevated views and winding paths. The central feature of the town is the Summit Plaza, a large open square that offers panoramic views of the surrounding peaks. Radiating from Summit Plaza are three main paths: Alpine Path (north), which leads to the Skyline Ridge; Crestway Trail (east), which winds down to the Valley Market; and Peakside Lane (south), which goes towards the Cloudtop Observatory. Notable locations include the Mountain Museum, situated halfway along Alpine Path, and the Eagle's Nest Inn, located at the end of Peakside Lane. A cable car line runs from Summit Plaza to the base of the mountain, with a mid-station stop at the Valley Market. Due to recent rockslides, Crestway Trail is partially blocked, making travel between Summit Plaza and Valley Market challenging.\n",
      "===============\n",
      "[CityQnA(question='Find the route from Summit Plaza to the Mountain Museum.', answer='WALK Alpine Path -> REACH Mountain Museum.'), CityQnA(question=\"Find the route from the Cloudtop Observatory to Eagle's Nest Inn.\", answer=\"WALK Peakside Lane -> TURN around at Summit Plaza -> WALK Peakside Lane -> REACH Eagle's Nest Inn.\"), CityQnA(question='Find the route from Valley Market to the Cloudtop Observatory.', answer='WALK Crestway Trail -> TURN around at Summit Plaza -> WALK Peakside Lane -> REACH Cloudtop Observatory.'), CityQnA(question='Find the route from the Mountain Museum to the cable car mid-station at Valley Market.', answer='WALK Alpine Path -> TURN around at Summit Plaza -> WALK Crestway Trail -> REACH cable car mid-station at Valley Market.'), CityQnA(question='Find the route from Summit Plaza to Valley Market.', answer='NOT POSSIBLE.')]\n"
     ]
    }
   ],
   "source": [
    "cities = []\n",
    "for city_name in tqdm(city_names.city_names):\n",
    "    city = client.chat.completions.create(\n",
    "        model=\"gpt-4-1106-preview\",\n",
    "        response_model=City,\n",
    "        temperature=0.2,\n",
    "        messages=[{\"role\": \"user\", \"content\": get_city_prompt(city_name)}]\n",
    "    )\n",
    "    cities.append(city)\n",
    "    \n",
    "print(cities[0].description)\n",
    "print(\"===============\")\n",
    "print(cities[0].qna)"
   ],
   "metadata": {
    "collapsed": false,
    "ExecuteTime": {
     "end_time": "2024-01-14T01:47:05.789876Z",
     "start_time": "2024-01-14T01:46:56.466781Z"
    }
   },
   "id": "3d2cc3853c9851d4",
   "execution_count": 70
  },
  {
   "cell_type": "markdown",
   "source": [
    "### Validate Cities"
   ],
   "metadata": {
    "collapsed": false
   },
   "id": "50f855085705608d"
  },
  {
   "cell_type": "code",
   "outputs": [],
   "source": [
    "for city in tqdm(cities):\n",
    "    for qna in city.qna:\n",
    "        city_qna_validator = client.chat.completions.create(\n",
    "            model=\"gpt-4-1106-preview\",\n",
    "            response_model=CityQnaValidator,\n",
    "            messages=[{\"role\": \"user\", \"content\": qna.validation_prompt(city.description)}]\n",
    "        )\n",
    "        qna.validation = city_qna_validator"
   ],
   "metadata": {
    "collapsed": false
   },
   "id": "6dfc499ac9280c85"
  },
  {
   "cell_type": "markdown",
   "source": [
    "### Save"
   ],
   "metadata": {
    "collapsed": false
   },
   "id": "d18a2704025f35a4"
  },
  {
   "cell_type": "code",
   "outputs": [],
   "source": [
    "## Remove invalid cities.\n",
    "cities = [city for city in cities if city.validation.valid]\n",
    "\n",
    "## Store as JSON.\n",
    "with open(\"spatial_navigation.json\", \"w\") as f:\n",
    "    json.dump([city.model_dump() for city in cities], f)\n",
    "    \n",
    "## As CSV.\n",
    "df = pd.DataFrame([city.model_dump() for city in cities])\n",
    "df.to_csv(\"spatial_navigation.csv\", index=False)"
   ],
   "metadata": {
    "collapsed": false
   },
   "id": "43ccf1037daf6aec"
  },
  {
   "cell_type": "markdown",
   "source": [
    "## Dependency Cascade"
   ],
   "metadata": {
    "collapsed": false
   },
   "id": "5455b9464e394bde"
  },
  {
   "cell_type": "code",
   "outputs": [],
   "source": [
    "class CascadeTopicList(BaseModel):\n",
    "    topics: conlist(str, min_length=30, max_length=70) = Field(description=\"List of 50 topics.\")\n",
    "    \n",
    "class CascadeValidator(BaseModel):\n",
    "    analysis: str = Field(description=\"Detailed analysis of the proposed answer.\") \n",
    "    valid: bool = Field(description=\"Whether the proposed answer is valid given the rules.\")\n",
    "    \n",
    "class EventsCascade(BaseModel):\n",
    "    events: conlist(Tuple[str, str], min_length=5, max_length=5) = Field(description=\"Ordered list of 5 event-dependency tuples, e.g.: (event, dependency).\")\n",
    "    validation: Optional[CascadeValidator] = None\n",
    "        \n",
    "    def validation_prompt(self):\n",
    "        return f\"\"\" Below you will be presented with a series of events and their dependencies. Your task is to determine if the events are valid given the dependencies and if they cannot be arranged in any other way. First analyze carefully the events and dependencies, then determine their valid status.\n",
    "\n",
    "CASCADE: {self.events}\n",
    "\"\"\""
   ],
   "metadata": {
    "collapsed": false,
    "ExecuteTime": {
     "end_time": "2024-01-14T03:10:21.995953Z",
     "start_time": "2024-01-14T03:10:21.956573Z"
    }
   },
   "id": "6cfbde2257aa2c5e",
   "execution_count": 81
  },
  {
   "cell_type": "markdown",
   "source": [
    "### Create Passage Topics"
   ],
   "metadata": {
    "collapsed": false
   },
   "id": "cdc09b36ede73a2b"
  },
  {
   "cell_type": "code",
   "outputs": [],
   "source": [
    "cascade_topics = client.chat.completions.create(\n",
    "    model=\"gpt-4-1106-preview\",\n",
    "    response_model=CascadeTopicList,\n",
    "    temperature=0.2,\n",
    "    messages=[{\"role\": \"user\", \"content\": \"Provide me with 50 topic names that could be candidates for an engaging event-based documentary. For example, 'Bioluminecent Plant Discovery', 'Drug Trafficking Network Dismantled', 'Rare Mineral Discovery', and so on. Do not use these topics, but name your topics in a similar fashion. Make all your topics simple and engaging.\"}]\n",
    ")"
   ],
   "metadata": {
    "collapsed": false,
    "ExecuteTime": {
     "end_time": "2024-01-14T03:10:36.593952Z",
     "start_time": "2024-01-14T03:10:23.697263Z"
    }
   },
   "id": "4ce86ba3bad8ce8a",
   "execution_count": 82
  },
  {
   "cell_type": "code",
   "outputs": [
    {
     "data": {
      "text/plain": "CascadeTopicList(topics=['The Great Barrier Reef Revival', 'Antarctic Ice Shelf Collapse', 'Amazon Rainforest Preservation Efforts', 'The Rise of Electric Vehicles', 'Solar Power Breakthrough', 'Deep Sea Exploration Advances', 'Wildlife Trafficking Crackdown', 'Coral Bleaching Solutions', 'Plastic Pollution Cleanup Innovations', 'Renewable Energy Milestones', 'Artificial Intelligence in Medicine', 'Cybersecurity in the Digital Age', 'Quantum Computing Revolution', 'Space Tourism Takes Off', 'Mars Colonization Plans', 'The Future of Urban Farming', 'Ocean Acidification Countermeasures', 'Mass Extinction Prevention Strategies', 'Climate Change Mitigation Successes', 'Pandemic Response and Preparedness', 'Global Water Scarcity Solutions', 'Breakthroughs in Cancer Treatment', 'Gene Editing Ethical Debates', 'Revolutionizing Education with Technology', 'The Gig Economy Transformation', 'Cryptocurrency and Financial Markets', 'The eSports Explosion', 'Virtual Reality Entertainment Boom', 'Augmented Reality in Everyday Life', 'Driverless Car Technology Evolution', 'Smart Cities and IoT', 'The Decline of Bee Populations', 'Combatting Antibiotic Resistance', 'The Obesity Epidemic Counteraction', 'Mental Health Awareness Movement', 'The Opioid Crisis Intervention', 'Sustainable Fashion Industry Trends', 'The Global Refugee Crisis', 'Human Rights in the Digital Era', 'The Fight Against Fake News', 'The Evolution of Social Media', 'The Rise of Plant-Based Diets', 'The Impact of Influencer Culture', 'The Changing Face of Retail', 'The Future of Air Travel', 'The New Space Race', 'The World of Competitive Gaming', 'The Power of Citizen Science', 'The Challenge of Nuclear Waste Disposal', 'The Quest for Immortality'])"
     },
     "execution_count": 83,
     "metadata": {},
     "output_type": "execute_result"
    }
   ],
   "source": [
    "cascade_topics"
   ],
   "metadata": {
    "collapsed": false,
    "ExecuteTime": {
     "end_time": "2024-01-14T03:10:45.818776Z",
     "start_time": "2024-01-14T03:10:45.788135Z"
    }
   },
   "id": "b27a9bcb7ca45256",
   "execution_count": 83
  },
  {
   "cell_type": "markdown",
   "source": [
    "### Create Cascades"
   ],
   "metadata": {
    "collapsed": false
   },
   "id": "3cc030e6c6a3c521"
  },
  {
   "cell_type": "code",
   "outputs": [],
   "source": [
    "def get_cascade_prompt(topic):\n",
    "    cascade_prompt = f\"\"\"Your task is to create a \"Sequential Logic Cascade\" based on the topic '{topic}'. Each scenario should consist of a series of five events with strict, non-interchangeable dependencies. Make sure that the events could not happen in any other order and that events could absolutely not happened without their dependencies. You can take inspiration from the example below, but do not make your response too similar.\n",
    "\n",
    "EXAMPLE CASCADE\n",
    "================\n",
    "### Topic\n",
    "Bioluminescent Plant Discovery\n",
    "\n",
    "### Events & Dependencies\n",
    "- Event A: A new species of bioluminescent plant is discovered in a deep-sea expedition.\n",
    "    * Dependency: The discovery of the plant is the basis for all subsequent events.\n",
    "- Event B: Scientists sequence the genome of the bioluminescent plant.\n",
    "    * Dependency: Requires the plant's discovery and access to advanced genetic sequencing technology.\n",
    "- Event C: A breakthrough in synthetic biology enables the replication of bioluminescent genes in other plants.\n",
    "    * Dependency: Directly dependent on understanding the bioluminescent plant's genome.\n",
    "- Event D: The first bioluminescent trees are grown in a controlled lab environment.\n",
    "    * Dependency: Can only occur after the successful replication of bioluminescent genes.\n",
    "- Event E: These bioluminescent trees are introduced into urban areas to reduce the need for streetlights.\n",
    "    * Dependency: Occurs only after the trees have been successfully grown and proven safe and effective in a lab.\n",
    "\"\"\"\n",
    "    return cascade_prompt"
   ],
   "metadata": {
    "collapsed": false,
    "ExecuteTime": {
     "end_time": "2024-01-14T03:13:11.608506Z",
     "start_time": "2024-01-14T03:13:11.575591Z"
    }
   },
   "id": "fe72dc07615176ab",
   "execution_count": 86
  },
  {
   "cell_type": "code",
   "outputs": [
    {
     "data": {
      "text/plain": "  0%|          | 0/1 [00:00<?, ?it/s]",
      "application/vnd.jupyter.widget-view+json": {
       "version_major": 2,
       "version_minor": 0,
       "model_id": "817b2d9597314cc39a5b7dcd2b545887"
      }
     },
     "metadata": {},
     "output_type": "display_data"
    },
    {
     "name": "stdout",
     "output_type": "stream",
     "text": [
      "events=[('Event A: Theoretical framework for quantum computing is established.', 'Dependency: This is the fundamental scientific understanding that allows for the conceptualization of quantum computing.'), ('Event B: Physical realization of the first qubit.', 'Dependency: Requires the theoretical framework to be established and practical experimentation in quantum mechanics.'), ('Event C: Development of the first quantum algorithm.', 'Dependency: Directly dependent on the existence of qubits to run the algorithm.'), ('Event D: Construction of the first small-scale quantum computer.', 'Dependency: Can only occur after the development of quantum algorithms that need to be tested on actual quantum hardware.'), ('Event E: Quantum computers surpass classical computers in certain tasks (quantum supremacy).', 'Dependency: Occurs only after the successful construction and testing of quantum computers.')] validation=None\n"
     ]
    }
   ],
   "source": [
    "cascades = []\n",
    "for cascade_topic in tqdm(cascade_topics.topics):\n",
    "    cascade = client.chat.completions.create(\n",
    "        model=\"gpt-4-1106-preview\",\n",
    "        response_model=EventsCascade,\n",
    "        temperature=0.2,\n",
    "        messages=[{\"role\": \"user\", \"content\": get_cascade_prompt(cascade_topic)}]\n",
    "    )\n",
    "    cascades.append(cascade)\n",
    "\n",
    "print(cascades[0])"
   ],
   "metadata": {
    "collapsed": false,
    "ExecuteTime": {
     "end_time": "2024-01-14T03:13:42.573952Z",
     "start_time": "2024-01-14T03:13:36.476786Z"
    }
   },
   "id": "bb542b02ad2fb073",
   "execution_count": 88
  },
  {
   "cell_type": "markdown",
   "source": [
    "### Validate Cascades"
   ],
   "metadata": {
    "collapsed": false
   },
   "id": "10878659105027df"
  },
  {
   "cell_type": "code",
   "outputs": [],
   "source": [
    "for cascade in tqdm(cascades):\n",
    "    cascade_validator = client.chat.completions.create(\n",
    "        model=\"gpt-4-1106-preview\",\n",
    "        response_model=CascadeValidator,\n",
    "        messages=[{\"role\": \"user\", \"content\": cascade.validation_prompt()}]\n",
    "    )\n",
    "    cascade.validation = cascade_validator"
   ],
   "metadata": {
    "collapsed": false
   },
   "id": "e5c61caa3f00b0dc"
  },
  {
   "cell_type": "markdown",
   "source": [
    "### Save"
   ],
   "metadata": {
    "collapsed": false
   },
   "id": "48a0785230c7fa1b"
  },
  {
   "cell_type": "code",
   "outputs": [],
   "source": [
    "## Remove invalid cascades.\n",
    "cascades = [cascade for cascade in cascades if cascade.validation.valid]\n",
    "\n",
    "## Store as JSON.\n",
    "with open(\"sequential_logic_cascade.json\", \"w\") as f:\n",
    "    json.dump([cascade.model_dump() for cascade in cascades], f)\n",
    "    \n",
    "## As CSV.\n",
    "df = pd.DataFrame([cascade.model_dump() for cascade in cascades])\n",
    "df.to_csv(\"sequential_logic_cascade.csv\", index=False)"
   ],
   "metadata": {
    "collapsed": false
   },
   "id": "46162d8872565e7e"
  },
  {
   "cell_type": "markdown",
   "source": [
    "## Hypothesis Testing"
   ],
   "metadata": {
    "collapsed": false
   },
   "id": "a86c7680fe57ba5d"
  },
  {
   "cell_type": "code",
   "outputs": [],
   "source": [
    "class HypothesisTopicList(BaseModel):\n",
    "    topics: conlist(str, min_length=30, max_length=70) = Field(description=\"List of 50 scientific hypothesis topics.\")\n",
    "    \n",
    "\n",
    "class EvidenceValidator(BaseModel):\n",
    "    analysis: str = Field(description=\"Analysis of weather the evidence supports the hypothesis or not, and the correctness of the 'supports' flag.\")\n",
    "    valid: bool = Field(description=\"Whether the 'supports' flag is correct or not.\")\n",
    "\n",
    "\n",
    "class Evidence(BaseModel):\n",
    "    evidence: str = Field(description=\"Evidence related to the hypothesis.\")\n",
    "    supports: str = Field(description=\"Whether the evidence supports, refutes or is neutral to the hypothesis. Possible values are 'Supports', 'Refutes' and 'Neutral'.\")\n",
    "    validation: Optional[EvidenceValidator] = None\n",
    "    \n",
    "    def validation_prompt(self, hypothesis):\n",
    "        return f\"\"\" Below you will be presented with a hypothesis, a piece of evidence related to it and an assessment of whether the evidence supports, refutes or is neutral to the hypothesis. Your task is to determine if the assessment is correct.\n",
    "HYPOTHESIS: {hypothesis}\n",
    "EVIDENCE: {self.evidence}\n",
    "ASSESSMENT: {self.supports}\n",
    "\"\"\"\n",
    "\n",
    "class HypothesisTest(BaseModel):\n",
    "    hypothesis: str = Field(description=\"Hypothesis to be tested.\")\n",
    "    evidence: conlist(Evidence, min_length=5, max_length=5) = Field(description=\"List of evidence to be tested against the hypothesis.\")\n",
    "    validation: Optional[PuzzleValidator] = None"
   ],
   "metadata": {
    "collapsed": false,
    "ExecuteTime": {
     "end_time": "2024-01-14T19:24:10.391374Z",
     "start_time": "2024-01-14T19:24:10.327805Z"
    }
   },
   "id": "fc66378262cc3cdc",
   "execution_count": 19
  },
  {
   "cell_type": "markdown",
   "source": [
    "## Create Hypothesis Topics"
   ],
   "metadata": {
    "collapsed": false
   },
   "id": "4137ec7fe60af24e"
  },
  {
   "cell_type": "code",
   "outputs": [],
   "source": [
    "hypothesis_topics = client.chat.completions.create(\n",
    "    model=\"gpt-4-1106-preview\",\n",
    "    response_model=HypothesisTopicList,\n",
    "    temperature=0.2,\n",
    "    messages=[{\"role\": \"user\", \"content\": \"Provide me with 50 scientific hypothesis that could be subject to testing. For example, 'Eating a diet high in fruits and vegetables leads to better cardiovascular health.', 'The presence of water on a planet is a necessary condition for life.', 'The use of antibiotics in livestock leads to antibiotic resistance in humans.', and so on. Do not use these hypothesis, but name your hypothesis in a similar fashion. Make all your hypothesis simple and engaging.\"}]\n",
    ")"
   ],
   "metadata": {
    "collapsed": false,
    "ExecuteTime": {
     "end_time": "2024-01-14T19:13:31.391457Z",
     "start_time": "2024-01-14T19:13:02.617659Z"
    }
   },
   "id": "c598e0fa310387fb",
   "execution_count": 5
  },
  {
   "cell_type": "code",
   "outputs": [
    {
     "data": {
      "text/plain": "HypothesisTopicList(topics=['Regular exercise improves cognitive function in the elderly.', 'Consuming probiotics daily enhances the human immune system.', 'Sleeping less than six hours a night increases the risk of obesity.', 'Exposure to blue light before bedtime disrupts sleep quality.', 'Plant-based diets reduce the risk of developing type 2 diabetes.', 'Meditation reduces symptoms of anxiety and depression.', 'Children who learn a musical instrument perform better academically.', 'Drinking green tea daily can lower the risk of certain cancers.', 'Social media use is correlated with increased feelings of loneliness.', 'Bilingual individuals have a lower risk of developing dementia.', 'Dark chocolate consumption improves brain function.', 'Air pollution is associated with higher rates of asthma in urban areas.', 'Introducing allergenic foods early in life decreases the risk of allergies.', 'Video game play enhances visual-spatial skills.', 'Urban green spaces contribute to improved mental health.', 'Omega-3 fatty acid supplementation improves heart health.', 'Artificial sweeteners contribute to weight gain.', 'Mindfulness training can decrease chronic pain perception.', 'High-intensity interval training is more effective for fat loss than steady-state cardio.', 'Exposure to nature increases creativity and problem-solving ability.', 'Use of ergonomic furniture reduces the risk of developing chronic back pain.', 'Learning a second language improves cognitive flexibility.', 'Regular yoga practice lowers blood pressure in hypertensive patients.', 'Pet ownership is linked to lower stress levels.', 'Virtual reality exposure therapy is effective for treating phobias.', 'Consuming flavonoid-rich foods enhances memory retention.', 'Listening to classical music increases productivity.', 'Intermittent fasting contributes to longevity.', 'Use of mobile devices at night contributes to sleep disturbances.', 'Spending time with animals can alleviate symptoms of depression.', 'Drinking coffee is associated with a reduced risk of liver disease.', 'Participation in team sports develops leadership skills in adolescents.', 'Reading fiction improves empathy and social cognition.', 'Exposure to secondhand smoke during pregnancy affects fetal development.', 'Using standing desks at work improves overall energy levels.', 'Volunteering is associated with increased life satisfaction.', 'Consuming omega-6 fatty acids in excess can lead to inflammation.', 'Playing puzzle games slows cognitive decline in the elderly.', 'Gardening activities reduce stress and promote relaxation.', 'Laughing regularly strengthens the immune system.', 'Soy consumption is linked to a lower risk of breast cancer.', 'Exposure to sunlight increases the production of serotonin in the brain.', 'Eating spicy foods boosts metabolism.', 'Practicing gratitude leads to increased overall well-being.', 'Regular swimming reduces symptoms of arthritis.', 'Using a smartphone before bed worsens sleep quality.', 'Passive smoking at home increases asthma risk in children.', 'Drinking adequate water improves skin hydration and appearance.', 'Listening to music during workouts enhances physical performance.', 'Having indoor plants improves air quality in homes.'])"
     },
     "execution_count": 6,
     "metadata": {},
     "output_type": "execute_result"
    }
   ],
   "source": [
    "hypothesis_topics"
   ],
   "metadata": {
    "collapsed": false,
    "ExecuteTime": {
     "end_time": "2024-01-14T19:13:31.425874Z",
     "start_time": "2024-01-14T19:13:31.395258Z"
    }
   },
   "id": "cac23d336ea8fe64",
   "execution_count": 6
  },
  {
   "cell_type": "markdown",
   "source": [
    "### Create Hypothesis Tests"
   ],
   "metadata": {
    "collapsed": false
   },
   "id": "c7b1610e2c127802"
  },
  {
   "cell_type": "code",
   "outputs": [],
   "source": [
    "def get_hypothesis_prompt(topic):\n",
    "    hypothesis_prompt = f\"\"\"Your task is to create a hypothesis test for the hypothesis '{topic}'. The test should consist of a hypothesis and five pieces of evidence that either support, refute or are neutral to the hypothesis. You can take inspiration from the example below, but do not make your response too similar.\n",
    "    \n",
    "EXAMPLE HYPOTHESIS TEST\n",
    "=======================    \n",
    "### Hypothesis\n",
    "Eating a diet high in fruits and vegetables leads to better cardiovascular health.\n",
    "    \n",
    "### Evidence\n",
    "- Evidence 1: A published study showing lower blood pressure in individuals eating more greens. (Supports)\n",
    "- Evidence 2: A recent survey linking high fruit consumption to reduced cholesterol levels. (Supports)\n",
    "- Evidence 3: An article arguing that genetics play a more significant role in cardiovascular health than diet. (Refutes)\n",
    "- Evidence 4: A case study where no significant health improvement was seen in individuals who increased their fruit and vegetable intake. (Refutes)\n",
    "- Evidence 5: A nutritionist stating the importance of a balanced diet, including fruits and vegetables, for overall health. (Neutral)\n",
    "\"\"\"\n",
    "    return hypothesis_prompt"
   ],
   "metadata": {
    "collapsed": false,
    "ExecuteTime": {
     "end_time": "2024-01-14T19:24:14.785480Z",
     "start_time": "2024-01-14T19:24:14.751988Z"
    }
   },
   "id": "6cec44a7ab260cc5",
   "execution_count": 20
  },
  {
   "cell_type": "code",
   "outputs": [
    {
     "data": {
      "text/plain": "  0%|          | 0/1 [00:00<?, ?it/s]",
      "application/vnd.jupyter.widget-view+json": {
       "version_major": 2,
       "version_minor": 0,
       "model_id": "d901521889484f719d2ed13ed00fe2c2"
      }
     },
     "metadata": {},
     "output_type": "display_data"
    }
   ],
   "source": [
    "hypothesis_tests = []\n",
    "for hypothesis_topic in tqdm(hypothesis_topics.topics):\n",
    "    hypothesis_test = client.chat.completions.create(\n",
    "        model=\"gpt-4-1106-preview\",\n",
    "        response_model=HypothesisTest,\n",
    "        temperature=0.2,\n",
    "        messages=[{\"role\": \"user\", \"content\": get_hypothesis_prompt(hypothesis_topic)}]\n",
    "    )\n",
    "    hypothesis_tests.append(hypothesis_test)"
   ],
   "metadata": {
    "collapsed": false,
    "ExecuteTime": {
     "end_time": "2024-01-14T19:24:30.450958Z",
     "start_time": "2024-01-14T19:24:15.316446Z"
    }
   },
   "id": "69eca8d7f4bc89ed",
   "execution_count": 21
  },
  {
   "cell_type": "markdown",
   "source": [
    "### Validate Hypothesis Tests"
   ],
   "metadata": {
    "collapsed": false
   },
   "id": "2069da46062239a4"
  },
  {
   "cell_type": "code",
   "outputs": [
    {
     "data": {
      "text/plain": "  0%|          | 0/1 [00:00<?, ?it/s]",
      "application/vnd.jupyter.widget-view+json": {
       "version_major": 2,
       "version_minor": 0,
       "model_id": "d2966c07262941e3b8ed2f34bbb5ff59"
      }
     },
     "metadata": {},
     "output_type": "display_data"
    }
   ],
   "source": [
    "for hypothesis_test in tqdm(hypothesis_tests):\n",
    "    for evidence in hypothesis_test.evidence:\n",
    "        evidence_validator = client.chat.completions.create(\n",
    "            model=\"gpt-4-1106-preview\",\n",
    "            response_model=EvidenceValidator,\n",
    "            messages=[{\"role\": \"user\", \"content\": evidence.validation_prompt(hypothesis_test.hypothesis)}]\n",
    "        )\n",
    "        evidence.validation = evidence_validator"
   ],
   "metadata": {
    "collapsed": false,
    "ExecuteTime": {
     "end_time": "2024-01-14T19:24:52.375772Z",
     "start_time": "2024-01-14T19:24:30.453826Z"
    }
   },
   "id": "a5ae393ff1c22b43",
   "execution_count": 22
  },
  {
   "cell_type": "markdown",
   "source": [
    "### Save"
   ],
   "metadata": {
    "collapsed": false
   },
   "id": "17771dc8df0cffe4"
  },
  {
   "cell_type": "code",
   "outputs": [],
   "source": [
    "## Remove invalid hypothesis tests.\n",
    "hypothesis_tests = [hypothesis_test for hypothesis_test in hypothesis_tests if all([evidence.validation.valid for evidence in hypothesis_test.evidence])]\n",
    "\n",
    "## Store as JSON.\n",
    "with open(\"hypothesis_testing.json\", \"w\") as f:\n",
    "    json.dump([hypothesis_test.model_dump() for hypothesis_test in hypothesis_tests], f)\n",
    "    \n",
    "## As CSV.\n",
    "df = pd.DataFrame([hypothesis_test.model_dump() for hypothesis_test in hypothesis_tests])"
   ],
   "metadata": {
    "collapsed": false
   },
   "id": "4bc441924b961fd5"
  }
 ],
 "metadata": {
  "kernelspec": {
   "display_name": "Python 3",
   "language": "python",
   "name": "python3"
  },
  "language_info": {
   "codemirror_mode": {
    "name": "ipython",
    "version": 2
   },
   "file_extension": ".py",
   "mimetype": "text/x-python",
   "name": "python",
   "nbconvert_exporter": "python",
   "pygments_lexer": "ipython2",
   "version": "2.7.6"
  }
 },
 "nbformat": 4,
 "nbformat_minor": 5
}
